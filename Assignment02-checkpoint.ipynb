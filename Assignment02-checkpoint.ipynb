{
 "cells": [
  {
   "cell_type": "markdown",
   "metadata": {},
   "source": [
    "Q1) Write a program which takes 5 inputs from user for different subject’s marks, total it and generate mark sheet using grades"
   ]
  },
  {
   "cell_type": "code",
   "execution_count": 1,
   "metadata": {},
   "outputs": [
    {
     "name": "stdout",
     "output_type": "stream",
     "text": [
      "Enter Marks of 1st Subject: 45\n",
      "Enter Marks of 2nd Subject: 67\n",
      "Enter Marks of 3rd Subject: 89\n",
      "Enter Marks of 4th Subject: 90\n",
      "Enter Marks of 5th Subject: 66\n",
      "You have got A with an average of  71.4  Marks.\n"
     ]
    }
   ],
   "source": [
    "subject1 = int(input(\"Enter Marks of 1st Subject: \"))\n",
    "subject2 = int(input(\"Enter Marks of 2nd Subject: \"))\n",
    "subject3 = int(input(\"Enter Marks of 3rd Subject: \"))\n",
    "subject4 = int(input(\"Enter Marks of 4th Subject: \"))\n",
    "subject5 = int(input(\"Enter Marks of 5th Subject: \"))\n",
    "\n",
    "TotalMarks = (subject1 + subject2 + subject3 + subject4 + subject5) / 5\n",
    "\n",
    "if TotalMarks >= 80 and TotalMarks < 100:\n",
    "    print(\"You have got A+ with an average of \",TotalMarks, \" Marks.\")\n",
    "elif TotalMarks >= 70 and TotalMarks < 80:\n",
    "    print(\"You have got A with an average of \",TotalMarks, \" Marks.\")\n",
    "elif TotalMarks >= 60 and TotalMarks < 70:\n",
    "    print(\"You have got B with an average of \",TotalMarks, \" Marks.\")\n",
    "elif TotalMarks >= 50 and TotalMarks < 60:\n",
    "    print(\"You have got C with an average of \",TotalMarks, \" Marks.\")\n",
    "elif TotalMarks >= 40 and TotalMarks < 50:\n",
    "    print(\"You have got D with an average of \",TotalMarks, \" Marks.\")\n",
    "elif TotalMarks >= 33:\n",
    "    print(\"You have got E with an average of \",TotalMarks, \" Marks.\")\n",
    "elif TotalMarks >= 0 and TotalMarks < 33:\n",
    "    print(\"You are Failed\")"
   ]
  },
  {
   "cell_type": "markdown",
   "metadata": {},
   "source": [
    "Q2) Write a program which take input from user and identify that the given number is even or odd?"
   ]
  },
  {
   "cell_type": "code",
   "execution_count": 2,
   "metadata": {},
   "outputs": [
    {
     "name": "stdout",
     "output_type": "stream",
     "text": [
      "Enter any Integer Number: 88\n",
      "This is an Even number.\n"
     ]
    }
   ],
   "source": [
    "number = int(input(\"Enter any Integer Number: \"))\n",
    "\n",
    "newnum = number % 2\n",
    "\n",
    "if newnum > 0:\n",
    "    print(\"This is an Odd Number.\")\n",
    "else:\n",
    "    print(\"This is an Even number.\")"
   ]
  },
  {
   "cell_type": "markdown",
   "metadata": {},
   "source": [
    "Q3) Write a program which print the length of the list?"
   ]
  },
  {
   "cell_type": "code",
   "execution_count": 3,
   "metadata": {},
   "outputs": [
    {
     "name": "stdout",
     "output_type": "stream",
     "text": [
      "The length of the given list is:  6\n"
     ]
    }
   ],
   "source": [
    "A = [2 , 4 , 'Ali','Dayyan', True , 789 ]\n",
    "\n",
    "Length = len(A)\n",
    "\n",
    "print(\"The length of the given list is: \" , Length)"
   ]
  },
  {
   "cell_type": "markdown",
   "metadata": {},
   "source": [
    "Q4) Write a Python program to sum all the numeric items in a list?"
   ]
  },
  {
   "cell_type": "code",
   "execution_count": 4,
   "metadata": {},
   "outputs": [
    {
     "name": "stdout",
     "output_type": "stream",
     "text": [
      "The Sum of the given numbers in the list is:  46\n"
     ]
    }
   ],
   "source": [
    "B = [2 , 4 , 6 , 8 , 12 , 14 ]\n",
    "\n",
    "Sum = B[0] + B[1] + B[2] + B[3] + B[4] + B[5]\n",
    "\n",
    "print(\"The Sum of the given numbers in the list is: \" , Sum)"
   ]
  },
  {
   "cell_type": "markdown",
   "metadata": {},
   "source": [
    "Q5) Write a Python program to get the largest number from a numeric list."
   ]
  },
  {
   "cell_type": "code",
   "execution_count": 6,
   "metadata": {},
   "outputs": [
    {
     "name": "stdout",
     "output_type": "stream",
     "text": [
      "The Largest number in the list is:  64\n"
     ]
    }
   ],
   "source": [
    "B = [2 , 64 , 6 , 8 , 12 , 14 ]\n",
    "\n",
    "Largest = max(B)\n",
    "\n",
    "print(\"The Largest number in the list is: \" , Largest)"
   ]
  },
  {
   "cell_type": "markdown",
   "metadata": {},
   "source": [
    "Q6) Take a list, say for example this one: a = [1, 1, 2, 3, 5, 8, 13, 21, 34, 55, 89] and write a program that prints out all the elements of the list that are\n",
    "less than 5."
   ]
  },
  {
   "cell_type": "code",
   "execution_count": 13,
   "metadata": {},
   "outputs": [
    {
     "name": "stdout",
     "output_type": "stream",
     "text": [
      "[1, 1, 2, 3]\n"
     ]
    }
   ],
   "source": [
    "a = [1, 1, 2, 3, 5, 8, 13, 21, 34, 55, 89]\n",
    "\n",
    "A = []\n",
    "\n",
    "for number in a:\n",
    "    if number < 5:\n",
    "        A.append(number)\n",
    "print(A)"
   ]
  },
  {
   "cell_type": "code",
   "execution_count": null,
   "metadata": {},
   "outputs": [],
   "source": []
  }
 ],
 "metadata": {
  "kernelspec": {
   "display_name": "Python 3",
   "language": "python",
   "name": "python3"
  },
  "language_info": {
   "codemirror_mode": {
    "name": "ipython",
    "version": 3
   },
   "file_extension": ".py",
   "mimetype": "text/x-python",
   "name": "python",
   "nbconvert_exporter": "python",
   "pygments_lexer": "ipython3",
   "version": "3.7.0"
  }
 },
 "nbformat": 4,
 "nbformat_minor": 2
}

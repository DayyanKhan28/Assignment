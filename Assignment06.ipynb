{
 "cells": [
  {
   "cell_type": "markdown",
   "metadata": {},
   "source": [
    "## Q1) Define Object Oriented Programming Language?"
   ]
  },
  {
   "cell_type": "markdown",
   "metadata": {},
   "source": [
    "### Object Oriented Programming: "
   ]
  },
  {
   "cell_type": "markdown",
   "metadata": {},
   "source": [
    "OOP stands for Object Oriented Programming. OOP focuses mainly on the working of Data and its handling, as only the objects of a class are allowed to access the attributes or function of a class.In OOP the whole program is divided among Attributes and Behaviors of objects.The data in OOP is protected in the form of Class and Objects.In OOP we can use the same name for performing different functions thus we can overload functions, constructors and operators in it.In OOP the data member of the class can be accessed through the member functions of the class. In OOP we can access data and functions of different classes between each other.\n"
   ]
  },
  {
   "cell_type": "markdown",
   "metadata": {},
   "source": [
    "## Q2) List down the Benefits of OOP?"
   ]
  },
  {
   "cell_type": "markdown",
   "metadata": {},
   "source": [
    "### Benefits of OOP:"
   ]
  },
  {
   "cell_type": "markdown",
   "metadata": {},
   "source": [
    "1)OOP provides a clear modular structure for programs.\n",
    "\n",
    "2)It is good for defining abstract data types.\n",
    "\n",
    "3)Implementation details are hidden from other modules and other modules has a clearly defined interface.\n",
    "\n",
    "4)It is easy to maintain and modify existing code as new objects can be created with small differences to existing ones.\n",
    "\n",
    "5)Objects, methods, instance, message passing, inheritance are some important properties provided by these particular languages\n",
    "encapsulation, polymorphism, abstraction are also counts in these fundamentals of programming language.\n",
    "\n",
    "6)It implements real life scenario.\n",
    "\n",
    "7)In OOP, programmer not only defines data types but also deals with operations applied for data structures."
   ]
  },
  {
   "cell_type": "markdown",
   "metadata": {},
   "source": [
    "## Q3) Differentiate between function and method?"
   ]
  },
  {
   "cell_type": "markdown",
   "metadata": {},
   "source": [
    "### Function: "
   ]
  },
  {
   "cell_type": "markdown",
   "metadata": {},
   "source": [
    "A function is a piece of code that is called by name. It can be passed data to operate on (i.e. the parameters) and can optionally return data (the return value). All data that is passed to a function is explicitly passed."
   ]
  },
  {
   "cell_type": "markdown",
   "metadata": {},
   "source": [
    "### Method:"
   ]
  },
  {
   "cell_type": "markdown",
   "metadata": {},
   "source": [
    "A method is a piece of code that is called by a name that is associated with an object. In most respects it is identical to a function except for two key differences.A method is implicitly passed the object on which it was called.\n",
    "A method is able to operate on data that is contained within the class (remembering that an object is an instance of a class - the class is the definition, the object is an instance of that data)"
   ]
  },
  {
   "cell_type": "markdown",
   "metadata": {},
   "source": [
    "## Q4)Define the following terms:\n",
    "1. Class\n",
    "2. Object\n",
    "3. Attribute\n",
    "4. Behavior"
   ]
  },
  {
   "cell_type": "markdown",
   "metadata": {},
   "source": [
    "### Class:"
   ]
  },
  {
   "cell_type": "markdown",
   "metadata": {},
   "source": [
    "In OOP we define the attributes (Data Type) and functionality (behavior) on a combined platform name as the class or simply it is the description of an object. For example we can think of class as a sketch of a parrot with labels. It contains all the details about the name, colors, size etc. Based on these descriptions, we can study about the parrot. Here, parrot is an object."
   ]
  },
  {
   "cell_type": "markdown",
   "metadata": {},
   "source": [
    "### Object:"
   ]
  },
  {
   "cell_type": "markdown",
   "metadata": {},
   "source": [
    "Object is simply a collection of attributes (Data Type) and functionality (behaviour) that act on the data or simply the instances for class. When class is defined, only the description for the object is defined for example we have a class parrot and thus different objects of parrots can be created having the description of the class parrots."
   ]
  },
  {
   "cell_type": "markdown",
   "metadata": {},
   "source": [
    "### Attribute:"
   ]
  },
  {
   "cell_type": "markdown",
   "metadata": {},
   "source": [
    "Attributes are the characteristics of the class that help to distinguish it from other classes. A person's attributes, for example, include their age, name, and height etc"
   ]
  },
  {
   "cell_type": "markdown",
   "metadata": {},
   "source": [
    "### Behaviour:\n"
   ]
  },
  {
   "cell_type": "markdown",
   "metadata": {},
   "source": [
    "The behavior of an object is defined by its methods, which are the functions and subroutines defined within the object class. ... Methods determine what type of functionality a class has, how it modifies its data, and its overall behavior"
   ]
  },
  {
   "cell_type": "markdown",
   "metadata": {},
   "source": [
    "## Q5) Write a code in python in which create a class named it Car which have 5 attributes such like (model, color and name etc.) and 3 methods. And create 5 object instance from that class."
   ]
  },
  {
   "cell_type": "code",
   "execution_count": 11,
   "metadata": {},
   "outputs": [],
   "source": [
    "class car():\n",
    "    def __init__(self, model, colour, name, engine, manufacturer ):\n",
    "        self.model = model\n",
    "        self.colour = colour\n",
    "        self.name = name\n",
    "        self.engine = engine\n",
    "        self.manufacturer = manufacturer\n",
    "        \n",
    "    def start(self):\n",
    "        print(\"Engine Started\")\n",
    "        \n",
    "    def breakapply(self):\n",
    "        print(\"Engine Started\")\n",
    "        \n",
    "    def stop(self):\n",
    "        print(\"Engine Stopped\")"
   ]
  },
  {
   "cell_type": "code",
   "execution_count": 12,
   "metadata": {},
   "outputs": [],
   "source": [
    "a = car(2018, 'Yellow','Audi A1 Hatchback', 'Petrol', 'Audi')\n",
    "b = car(2014, 'Blue', 'BMW 2 Series', 'Diesel','BMW')\n",
    "c = car(2010, 'Navy Blue', 'Ford C Max', 'Petrol', 'Ford')\n",
    "d = car(2017, 'Silver','Honda Civic','Petrol', 'Honda')\n",
    "e = car(2019, 'Red', 'Toyota Auris', 'Petrol','Toyota')\n"
   ]
  },
  {
   "cell_type": "code",
   "execution_count": 13,
   "metadata": {},
   "outputs": [
    {
     "data": {
      "text/plain": [
       "2018"
      ]
     },
     "execution_count": 13,
     "metadata": {},
     "output_type": "execute_result"
    }
   ],
   "source": [
    "a.model"
   ]
  },
  {
   "cell_type": "code",
   "execution_count": 14,
   "metadata": {},
   "outputs": [
    {
     "data": {
      "text/plain": [
       "'BMW 2 Series'"
      ]
     },
     "execution_count": 14,
     "metadata": {},
     "output_type": "execute_result"
    }
   ],
   "source": [
    "b.name"
   ]
  },
  {
   "cell_type": "code",
   "execution_count": 15,
   "metadata": {},
   "outputs": [
    {
     "name": "stdout",
     "output_type": "stream",
     "text": [
      "Engine Started\n"
     ]
    }
   ],
   "source": [
    "a.start()"
   ]
  },
  {
   "cell_type": "code",
   "execution_count": 16,
   "metadata": {},
   "outputs": [
    {
     "name": "stdout",
     "output_type": "stream",
     "text": [
      "Engine Stopped\n"
     ]
    }
   ],
   "source": [
    "b.stop()"
   ]
  },
  {
   "cell_type": "code",
   "execution_count": null,
   "metadata": {},
   "outputs": [],
   "source": []
  },
  {
   "cell_type": "code",
   "execution_count": null,
   "metadata": {},
   "outputs": [],
   "source": []
  }
 ],
 "metadata": {
  "kernelspec": {
   "display_name": "Python 3",
   "language": "python",
   "name": "python3"
  },
  "language_info": {
   "codemirror_mode": {
    "name": "ipython",
    "version": 3
   },
   "file_extension": ".py",
   "mimetype": "text/x-python",
   "name": "python",
   "nbconvert_exporter": "python",
   "pygments_lexer": "ipython3",
   "version": "3.7.0"
  }
 },
 "nbformat": 4,
 "nbformat_minor": 2
}

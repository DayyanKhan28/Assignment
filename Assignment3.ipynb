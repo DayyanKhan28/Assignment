{
 "cells": [
  {
   "cell_type": "markdown",
   "metadata": {},
   "source": [
    "Q1) Make a calculator using Python with addition , subtraction , multiplication , division and power."
   ]
  },
  {
   "cell_type": "code",
   "execution_count": 2,
   "metadata": {},
   "outputs": [
    {
     "name": "stdout",
     "output_type": "stream",
     "text": [
      "Enter First Value: 2\n",
      "Enter Second Value: 2\n",
      "Enter Operator: +\n",
      "4 answer\n"
     ]
    }
   ],
   "source": [
    "import math\n",
    "\n",
    "val1 = int(input('Enter First Value: '))\n",
    "val2 = int(input('Enter Second Value: '))\n",
    "operator = input('Enter Operator: ')\n",
    "\n",
    "if operator == '+':\n",
    "    val = val1 + val2\n",
    "    print(val,'answer')\n",
    "elif operator == '-':\n",
    "    val = val1 - val2\n",
    "    print(val,'answer')\n",
    "elif operator == '*':\n",
    "    val = val1 + val2\n",
    "    print(val,'answer')\n",
    "elif operator == '/':\n",
    "    val = val1 / val2\n",
    "    print(val,'answer')\n",
    "elif operator == '^':\n",
    "    exponent = int(input(\" Please Enter Exponent Value : \"))\n",
    "    power = math.pow(val1, exponent)\n",
    "    print(power,'answer')\n",
    "else:\n",
    "    print('Enter Correct Operator')"
   ]
  },
  {
   "cell_type": "markdown",
   "metadata": {},
   "source": [
    "Q2) Write a program to check if there is any numeric value in list using for loop"
   ]
  },
  {
   "cell_type": "code",
   "execution_count": 3,
   "metadata": {},
   "outputs": [
    {
     "name": "stdout",
     "output_type": "stream",
     "text": [
      "Enter Value: 2\n",
      "Element does not Exists\n"
     ]
    }
   ],
   "source": [
    "A = [ 1, 2, 3, 4, 5, 6 ] \n",
    "\n",
    "num = int(input('Enter Value: '))\n",
    "\n",
    "for i in A: \n",
    "    if(i == num) : \n",
    "        print (\"Element Exists\")\n",
    "        break\n",
    "    else:\n",
    "        print(\"Element does not Exists\")\n",
    "        break\n",
    "\n",
    "    \n"
   ]
  },
  {
   "cell_type": "markdown",
   "metadata": {},
   "source": [
    "Q3) Write a Python script to add a key to a dictionary"
   ]
  },
  {
   "cell_type": "code",
   "execution_count": 4,
   "metadata": {},
   "outputs": [
    {
     "name": "stdout",
     "output_type": "stream",
     "text": [
      "{0: 15, 15: 30}\n",
      "{0: 15, 15: 30, 30: 45}\n"
     ]
    }
   ],
   "source": [
    "a = {0:15, 15:30}\n",
    "print(a)\n",
    "a.update({30:45})\n",
    "print(a)\n"
   ]
  },
  {
   "cell_type": "markdown",
   "metadata": {},
   "source": [
    "Q4) Write a Python program to sum all the numeric items in a dictionary"
   ]
  },
  {
   "cell_type": "code",
   "execution_count": 5,
   "metadata": {},
   "outputs": [
    {
     "name": "stdout",
     "output_type": "stream",
     "text": [
      "Sum of values in the dictionary: \n",
      "1124\n"
     ]
    }
   ],
   "source": [
    "x={'A':100,'B':540,'C':239, 'D':245}\n",
    "print(\"Sum of values in the dictionary: \")\n",
    "print(sum(x.values()))"
   ]
  },
  {
   "cell_type": "markdown",
   "metadata": {},
   "source": [
    "Q5) Write a program to identify duplicate values from list"
   ]
  },
  {
   "cell_type": "code",
   "execution_count": 6,
   "metadata": {},
   "outputs": [
    {
     "name": "stdout",
     "output_type": "stream",
     "text": [
      "Enter the number of elements in list:2\n",
      "Enter element1:1\n",
      "Enter element2:1\n",
      "Duplicate items:\n",
      "[1]\n"
     ]
    }
   ],
   "source": [
    "a=[]\n",
    "n= int(input(\"Enter the number of elements in list:\"))\n",
    "for x in range(0,n):\n",
    "    element=int(input(\"Enter element\" + str(x+1) + \":\"))\n",
    "    a.append(element)\n",
    "b = set()\n",
    "unique = []\n",
    "for x in a:\n",
    "    if x not in b:\n",
    "        unique.append(x)\n",
    "        b.add(x)\n",
    "print(\"Duplicate items:\")\n",
    "print(unique)"
   ]
  },
  {
   "cell_type": "markdown",
   "metadata": {},
   "source": [
    "Q6) Write a Python script to check if a given key already exists in a dictionary"
   ]
  },
  {
   "cell_type": "code",
   "execution_count": 18,
   "metadata": {},
   "outputs": [
    {
     "name": "stdout",
     "output_type": "stream",
     "text": [
      "Enter key to check:7\n",
      "Key isn't present!\n"
     ]
    }
   ],
   "source": [
    "X = {1: 10, 2: 20, 3: 30, 4: 40, 5: 50, 6: 60}\n",
    "\n",
    "key= int(input(\"Enter key to check:\"))\n",
    "if key in X.keys():\n",
    "    print(\"Key is present\")\n",
    "else:\n",
    "    print(\"Key isn't present!\")"
   ]
  },
  {
   "cell_type": "code",
   "execution_count": null,
   "metadata": {},
   "outputs": [],
   "source": []
  }
 ],
 "metadata": {
  "kernelspec": {
   "display_name": "Python 3",
   "language": "python",
   "name": "python3"
  },
  "language_info": {
   "codemirror_mode": {
    "name": "ipython",
    "version": 3
   },
   "file_extension": ".py",
   "mimetype": "text/x-python",
   "name": "python",
   "nbconvert_exporter": "python",
   "pygments_lexer": "ipython3",
   "version": "3.7.0"
  }
 },
 "nbformat": 4,
 "nbformat_minor": 2
}

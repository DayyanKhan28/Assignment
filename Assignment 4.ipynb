{
 "cells": [
  {
   "cell_type": "markdown",
   "metadata": {},
   "source": [
    "Q1: Use a dictionary to store information about a person you know. Store their first name, last name, age, and the city in which they live. You should have keys such as first_name, last_name, age, and city. Print each piece of information stored in your dictionary. Add a new key value pair about qualification then update the qualification value to high academic level then delete it."
   ]
  },
  {
   "cell_type": "code",
   "execution_count": 1,
   "metadata": {},
   "outputs": [],
   "source": [
    "BioData ={\"first_name\":\"Saqib\",\"last_name\": \"Raza\", \"Age\" : \"18\",\"City\" : \"Karachi\"}\n",
    "\n",
    "for each_key, each_value in BioData.items():\n",
    "    print(\"The Person's \" + each_key + \" is \" + each_value)"
   ]
  },
  {
   "cell_type": "code",
   "execution_count": 2,
   "metadata": {},
   "outputs": [
    {
     "name": "stdout",
     "output_type": "stream",
     "text": [
      "The Person's first_name is Saqib\n",
      "The Person's last_name is Raza\n",
      "The Person's Age is 18\n",
      "The Person's City is Karachi\n",
      "The Person's Qualification is Bachelors\n"
     ]
    }
   ],
   "source": [
    "BioData [\"Qualification\"] = \"Bachelors\"\n",
    "\n",
    "for each_key, each_value in BioData.items():\n",
    "    print(\"The Person's \" + each_key + \" is \" + each_value)"
   ]
  },
  {
   "cell_type": "code",
   "execution_count": 3,
   "metadata": {},
   "outputs": [],
   "source": [
    "del BioData[\"Qualification\"]"
   ]
  },
  {
   "cell_type": "code",
   "execution_count": 4,
   "metadata": {},
   "outputs": [
    {
     "name": "stdout",
     "output_type": "stream",
     "text": [
      "The Person's first_name is Saqib\n",
      "The Person's last_name is Raza\n",
      "The Person's Age is 18\n",
      "The Person's City is Karachi\n"
     ]
    }
   ],
   "source": [
    "for each_key, each_value in BioData.items():\n",
    "    print(\"The Person's \" + each_key + \" is \" + each_value)"
   ]
  },
  {
   "cell_type": "markdown",
   "metadata": {},
   "source": [
    "Q2: Make a dictionary called cities. Use the names of three cities as keys in your dictionary. Create a dictionary of information about each city and include the country that the city is in, its approximate population, and one fact about that city. The keys for each city’s dictionary should be something like country, population, and fact. Print the name of each city and all of the information you have stored about it."
   ]
  },
  {
   "cell_type": "code",
   "execution_count": 5,
   "metadata": {},
   "outputs": [],
   "source": [
    "City = {\n",
    "    1:{\n",
    "        \"Name Of City\" : \"Karachi\",\n",
    "        \"Country\" : \"Pakistan\",\n",
    "        \"Population\" :\"197 Million\",\n",
    "        \"Fact\" : \"Pakistan is the 6th most populated country in the World\"\n",
    "    },\n",
    "    \n",
    "   2: {\n",
    "        \"Name Of City\" : \"New Delhi\",\n",
    "        \"Country\" : \"India\",\n",
    "        \"Population\" :\"1.339 Billion\",\n",
    "        \"Fact\" : \"India is the 7th Largest country in the World\"\n",
    "    },\n",
    "    \n",
    "    3:{\n",
    "        \"Name Of City\" : \"Dhaka\",\n",
    "        \"Country\" : \"Bangladesh\",\n",
    "        \"Population\" :\"164.7 Million\",\n",
    "        \"Fact\" : \"The Currency of Bangladesh is Taka\"\n",
    "    },\n",
    "    \n",
    "}\n"
   ]
  },
  {
   "cell_type": "code",
   "execution_count": 6,
   "metadata": {},
   "outputs": [
    {
     "name": "stdout",
     "output_type": "stream",
     "text": [
      "The Name Of City is Karachi\n",
      "The Country is Pakistan\n",
      "The Population is 197 Million\n",
      "The Fact is Pakistan is the 6th most populated country in the World\n"
     ]
    }
   ],
   "source": [
    "for each_key, each_value in City[1].items():\n",
    "    print(\"The \" + each_key + \" is \" + each_value)"
   ]
  },
  {
   "cell_type": "code",
   "execution_count": 7,
   "metadata": {},
   "outputs": [
    {
     "name": "stdout",
     "output_type": "stream",
     "text": [
      "The Name Of City is New Delhi\n",
      "The Country is India\n",
      "The Population is 1.339 Billion\n",
      "The Fact is India is the 7th Largest country in the World\n"
     ]
    }
   ],
   "source": [
    "for each_key, each_value in City[2].items():\n",
    "    print(\"The \" + each_key + \" is \" + each_value)"
   ]
  },
  {
   "cell_type": "code",
   "execution_count": 8,
   "metadata": {},
   "outputs": [
    {
     "name": "stdout",
     "output_type": "stream",
     "text": [
      "The Name Of City is Dhaka\n",
      "The Country is Bangladesh\n",
      "The Population is 164.7 Million\n",
      "The Fact is The Currency of Bangladesh is Taka\n"
     ]
    }
   ],
   "source": [
    "for each_key, each_value in City[3].items():\n",
    "    print(\"The \" + each_key + \" is \" + each_value)"
   ]
  },
  {
   "cell_type": "markdown",
   "metadata": {},
   "source": [
    "Q3: A movie theater charges different ticket prices depending on a person’s age. If a person is under the age of 3, the ticket is free; if they are between 3 and 12, the ticket is $10; and if they are over age 12, the ticket is $15. Write a loop in which you ask users their age, and then tell them the cost of their movie ticket."
   ]
  },
  {
   "cell_type": "code",
   "execution_count": 9,
   "metadata": {},
   "outputs": [
    {
     "name": "stdout",
     "output_type": "stream",
     "text": [
      "How old are you?2\n",
      "You get in free!\n"
     ]
    }
   ],
   "source": [
    "age = input(\"How old are you?\");\n",
    "age = int(age)\n",
    "\n",
    "if age < 3:\n",
    "    print(\"You get in free!\")\n",
    "elif age < 13:\n",
    "    print(\"Your ticket is $10.\")\n",
    "else:\n",
    "    print(\"Your ticket is $15.\")"
   ]
  },
  {
   "cell_type": "markdown",
   "metadata": {},
   "source": [
    "Q4: Write a function called favorite_book() that accepts one parameter, title. The function should print a message, such as One of my favorite books is Alice in Wonderland. Call the function, making sure to include a book title as an argument in the function call."
   ]
  },
  {
   "cell_type": "code",
   "execution_count": 10,
   "metadata": {},
   "outputs": [
    {
     "name": "stdout",
     "output_type": "stream",
     "text": [
      "The Subtle Art of not Giving a Fuck is one of my favorite books.\n"
     ]
    }
   ],
   "source": [
    "def favorite_book(title):\n",
    "    \n",
    "    print(title + \" is one of my favorite books.\")\n",
    "\n",
    "favorite_book('The Subtle Art of not Giving a Fuck')"
   ]
  },
  {
   "cell_type": "markdown",
   "metadata": {},
   "source": [
    "Q5: Guess the number game\n",
    "Write a program which randomly generate a number between 1 to 30 and ask the user in input field to guess the correct number. Give three chances to user guess the number and also give hint to user if hidden number is greater or smaller than the number he given to input field.\n"
   ]
  },
  {
   "cell_type": "code",
   "execution_count": 12,
   "metadata": {},
   "outputs": [
    {
     "name": "stdout",
     "output_type": "stream",
     "text": [
      "Guess a number from 1 - 30 ? 23\n",
      "Your guess is too low.\n",
      "Guess a number from 1 - 30 ? 27\n",
      "Your guess is too high.\n",
      "Guess a number from 1 - 30 ? 24\n",
      "Your guess is too low.\n",
      "Nope. The correct number was 25\n"
     ]
    }
   ],
   "source": [
    "import random\n",
    "\n",
    "guessesTaken = 0\n",
    "\n",
    "number = random.randint(1, 30)\n",
    "\n",
    "while guessesTaken < 3:\n",
    "    guess = input(\"Guess a number from 1 - 30 ? \")\n",
    "    guess = int(guess)\n",
    "\n",
    "    guessesTaken = guessesTaken + 1\n",
    "\n",
    "    if guess < number:\n",
    "        print('Your guess is too low.') \n",
    "\n",
    "    if guess > number:\n",
    "        print('Your guess is too high.')\n",
    "\n",
    "    if guess == number:\n",
    "        break\n",
    "\n",
    "if guess == number:\n",
    "    guessesTaken = str(guessesTaken)\n",
    "    \n",
    "if guess != number:\n",
    "    number = str(number)\n",
    "    print('Nope. The correct number was ' + number)"
   ]
  },
  {
   "cell_type": "code",
   "execution_count": null,
   "metadata": {},
   "outputs": [],
   "source": []
  }
 ],
 "metadata": {
  "kernelspec": {
   "display_name": "Python 3",
   "language": "python",
   "name": "python3"
  },
  "language_info": {
   "codemirror_mode": {
    "name": "ipython",
    "version": 3
   },
   "file_extension": ".py",
   "mimetype": "text/x-python",
   "name": "python",
   "nbconvert_exporter": "python",
   "pygments_lexer": "ipython3",
   "version": "3.7.0"
  }
 },
 "nbformat": 4,
 "nbformat_minor": 2
}

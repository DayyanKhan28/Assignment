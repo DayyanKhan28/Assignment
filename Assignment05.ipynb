{
 "cells": [
  {
   "cell_type": "markdown",
   "metadata": {},
   "source": [
    "Q1) Write a Python function to calculate the factorial of a number (a non-negative integer). The function accepts the number as an argument."
   ]
  },
  {
   "cell_type": "code",
   "execution_count": 1,
   "metadata": {},
   "outputs": [
    {
     "name": "stdout",
     "output_type": "stream",
     "text": [
      "Input a number (a non-negative integer) to calculate the factiorial : 3\n",
      "6\n"
     ]
    }
   ],
   "source": [
    "def factorial(x):\n",
    "    if x == 0:\n",
    "        return 1\n",
    "    else:\n",
    "        return x * factorial(x-1)\n",
    "n=int(input(\"Input a number (a non-negative integer) to calculate the factiorial : \"))\n",
    "print(factorial(n))"
   ]
  },
  {
   "cell_type": "markdown",
   "metadata": {},
   "source": [
    "Q2) Write a Python function that accepts a string and calculate the number of upper case letters and lower case letters."
   ]
  },
  {
   "cell_type": "code",
   "execution_count": 2,
   "metadata": {},
   "outputs": [
    {
     "name": "stdout",
     "output_type": "stream",
     "text": [
      "Original String :  Ali is A good boy\n",
      "No. of Upper case characters :  2\n",
      "No. of Lower case Characters :  11\n"
     ]
    }
   ],
   "source": [
    "def string_testing(x):\n",
    "    a={\"Upper_Case\":0, \"Lower_Case\":0}\n",
    "    for i in x:\n",
    "        if i.isupper():\n",
    "            a[\"Upper_Case\"] += 1\n",
    "        elif i.islower():\n",
    "            a[\"Lower_Case\"] += 1\n",
    "        else:\n",
    "            pass\n",
    "    print (\"Original String : \", x)\n",
    "    print (\"No. of Upper case characters : \", a[\"Upper_Case\"])\n",
    "    print (\"No. of Lower case Characters : \", a[\"Lower_Case\"])\n",
    "\n",
    "string_testing('Ali is A good boy')"
   ]
  },
  {
   "cell_type": "markdown",
   "metadata": {},
   "source": [
    "Q3) Write a Python function to print the even numbers from a given list."
   ]
  },
  {
   "cell_type": "code",
   "execution_count": 4,
   "metadata": {},
   "outputs": [
    {
     "name": "stdout",
     "output_type": "stream",
     "text": [
      "44\n",
      "78\n",
      "112\n"
     ]
    }
   ],
   "source": [
    "list_01 = [1, 21, 44, 78, 112, 973] \n",
    "\n",
    "for number in list_01: \n",
    "    if number % 2 == 0: \n",
    "        print(number) \n"
   ]
  },
  {
   "cell_type": "markdown",
   "metadata": {},
   "source": [
    "Q4) Write a Python function that checks whether a passed string is palindrome or not."
   ]
  },
  {
   "cell_type": "code",
   "execution_count": 22,
   "metadata": {},
   "outputs": [
    {
     "name": "stdout",
     "output_type": "stream",
     "text": [
      "False\n"
     ]
    }
   ],
   "source": [
    "def Palindrome(x):\n",
    "    left_position = 0\n",
    "    right_position = len(x) - 1\n",
    "    \n",
    "    while right_position >= left_position:\n",
    "        if not x[left_position] == x[right_position]:\n",
    "            return False\n",
    "        left_position += 1\n",
    "        right_position -= 1\n",
    "        return True\n",
    "    \n",
    "print(Palindrome('Ali')) "
   ]
  },
  {
   "cell_type": "markdown",
   "metadata": {},
   "source": [
    "Q5) Write a Python function that takes a number as a parameter and check the number is prime or not."
   ]
  },
  {
   "cell_type": "code",
   "execution_count": 30,
   "metadata": {},
   "outputs": [
    {
     "name": "stdout",
     "output_type": "stream",
     "text": [
      "True\n"
     ]
    }
   ],
   "source": [
    "def prime(x):\n",
    "    if (x==1):\n",
    "        return False\n",
    "    elif (x==2):\n",
    "        return True;\n",
    "    else:\n",
    "        for i in range(2,x):\n",
    "            if(x % i==0):\n",
    "                return False\n",
    "        return True \n",
    "    \n",
    "print(prime(11))\n"
   ]
  },
  {
   "cell_type": "markdown",
   "metadata": {},
   "source": [
    "Q6) Suppose a customer is shopping in a market and you need to print all the items which user bought from market. Write a function which accepts the multiple arguments of user shopping list and print all the items which user bought from market."
   ]
  },
  {
   "cell_type": "code",
   "execution_count": 3,
   "metadata": {},
   "outputs": [
    {
     "name": "stdout",
     "output_type": "stream",
     "text": [
      "You have bought Jeans\n",
      "You have bought Shirt\n",
      "You have bought T-Shirt\n",
      "You have bought Shoes\n",
      "You have bought Watch\n"
     ]
    }
   ],
   "source": [
    "def shopping_list(*items):\n",
    "    for j in items:\n",
    "        print(\"You have bought \" + j )\n",
    "        \n",
    "shopping_list(\"Jeans\",\"Shirt\",\"T-Shirt\",\"Shoes\",\"Watch\")"
   ]
  },
  {
   "cell_type": "code",
   "execution_count": null,
   "metadata": {},
   "outputs": [],
   "source": []
  }
 ],
 "metadata": {
  "kernelspec": {
   "display_name": "Python 3",
   "language": "python",
   "name": "python3"
  },
  "language_info": {
   "codemirror_mode": {
    "name": "ipython",
    "version": 3
   },
   "file_extension": ".py",
   "mimetype": "text/x-python",
   "name": "python",
   "nbconvert_exporter": "python",
   "pygments_lexer": "ipython3",
   "version": "3.7.0"
  }
 },
 "nbformat": 4,
 "nbformat_minor": 2
}
